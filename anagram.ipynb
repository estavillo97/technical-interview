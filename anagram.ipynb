{
 "cells": [
  {
   "cell_type": "code",
   "execution_count": 19,
   "id": "d830350d",
   "metadata": {},
   "outputs": [],
   "source": [
    "def is_anagram(word_1: str, word_2: str)-> bool:\n",
    "    '''Returns if two words are anagram'''\n",
    "    split1 = sorted(word_1.lower())\n",
    "    split2 = sorted(word_2.lower())\n",
    "    \n",
    "    return split1 == split2"
   ]
  },
  {
   "cell_type": "code",
   "execution_count": 21,
   "id": "3ebc5214",
   "metadata": {},
   "outputs": [
    {
     "data": {
      "text/plain": [
       "True"
      ]
     },
     "execution_count": 21,
     "metadata": {},
     "output_type": "execute_result"
    }
   ],
   "source": [
    "is_anagram('Roma', 'amor')"
   ]
  },
  {
   "cell_type": "code",
   "execution_count": 47,
   "id": "f3975bdf",
   "metadata": {},
   "outputs": [],
   "source": [
    "def is_palindrome(word_1: str, word_2: str) -> bool:\n",
    "    for idx in range(len(word_1)):\n",
    "        if word_1[idx] != word_2[-idx - 1] or \\\n",
    "        len(word_1) != len(word_2):\n",
    "            return False\n",
    "        return True"
   ]
  },
  {
   "cell_type": "code",
   "execution_count": 60,
   "id": "0ef77f0a",
   "metadata": {},
   "outputs": [],
   "source": [
    "def is_palindrome(word_1: str, word_2: str) -> bool:\n",
    "    return word_1 == word_2[::-1]"
   ]
  },
  {
   "cell_type": "code",
   "execution_count": 62,
   "id": "2c08b576",
   "metadata": {},
   "outputs": [
    {
     "data": {
      "text/plain": [
       "True"
      ]
     },
     "execution_count": 62,
     "metadata": {},
     "output_type": "execute_result"
    }
   ],
   "source": [
    "is_palindrome('roma', 'amor')"
   ]
  },
  {
   "cell_type": "code",
   "execution_count": 63,
   "id": "22d208e4",
   "metadata": {},
   "outputs": [
    {
     "data": {
      "text/plain": [
       "False"
      ]
     },
     "execution_count": 63,
     "metadata": {},
     "output_type": "execute_result"
    }
   ],
   "source": [
    "is_palindrome('roma', 'ques')"
   ]
  },
  {
   "cell_type": "code",
   "execution_count": 64,
   "id": "0cf9082a",
   "metadata": {},
   "outputs": [
    {
     "data": {
      "text/plain": [
       "True"
      ]
     },
     "execution_count": 64,
     "metadata": {},
     "output_type": "execute_result"
    }
   ],
   "source": [
    "is_palindrome('bob', 'bob')"
   ]
  },
  {
   "cell_type": "code",
   "execution_count": 65,
   "id": "19a2b58c",
   "metadata": {},
   "outputs": [
    {
     "data": {
      "text/plain": [
       "True"
      ]
     },
     "execution_count": 65,
     "metadata": {},
     "output_type": "execute_result"
    }
   ],
   "source": [
    "is_palindrome('anitalavalatina', 'anitalavalatina')"
   ]
  },
  {
   "cell_type": "code",
   "execution_count": 66,
   "id": "de61c0e9",
   "metadata": {},
   "outputs": [
    {
     "data": {
      "text/plain": [
       "False"
      ]
     },
     "execution_count": 66,
     "metadata": {},
     "output_type": "execute_result"
    }
   ],
   "source": [
    "is_palindrome('roma', 'queso')"
   ]
  },
  {
   "cell_type": "code",
   "execution_count": 67,
   "id": "a84a26e7",
   "metadata": {},
   "outputs": [
    {
     "data": {
      "text/plain": [
       "False"
      ]
     },
     "execution_count": 67,
     "metadata": {},
     "output_type": "execute_result"
    }
   ],
   "source": [
    "is_palindrome('roma', 'mor')"
   ]
  }
 ],
 "metadata": {
  "kernelspec": {
   "display_name": "Python 3 (ipykernel)",
   "language": "python",
   "name": "python3"
  },
  "language_info": {
   "codemirror_mode": {
    "name": "ipython",
    "version": 3
   },
   "file_extension": ".py",
   "mimetype": "text/x-python",
   "name": "python",
   "nbconvert_exporter": "python",
   "pygments_lexer": "ipython3",
   "version": "3.11.5"
  }
 },
 "nbformat": 4,
 "nbformat_minor": 5
}
